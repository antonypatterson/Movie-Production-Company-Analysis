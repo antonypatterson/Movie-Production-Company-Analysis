{
 "cells": [
  {
   "attachments": {},
   "cell_type": "markdown",
   "metadata": {},
   "source": [
    "## Scraping IMBD for average rating by movie companies"
   ]
  },
  {
   "cell_type": "code",
   "execution_count": 5,
   "metadata": {},
   "outputs": [],
   "source": [
    "import requests\n",
    "from bs4 import BeautifulSoup\n",
    "import pandas as pd\n",
    "import matplotlib.pyplot as plt\n",
    "from ProductionCompanyIMDB import ProductionCompanyIMDB\n"
   ]
  },
  {
   "cell_type": "code",
   "execution_count": 6,
   "metadata": {},
   "outputs": [
    {
     "ename": "UnboundLocalError",
     "evalue": "cannot access local variable 'df' where it is not associated with a value",
     "output_type": "error",
     "traceback": [
      "\u001b[1;31m---------------------------------------------------------------------------\u001b[0m",
      "\u001b[1;31mUnboundLocalError\u001b[0m                         Traceback (most recent call last)",
      "Cell \u001b[1;32mIn[6], line 5\u001b[0m\n\u001b[0;32m      3\u001b[0m \u001b[39mfor\u001b[39;00m companyIter \u001b[39min\u001b[39;00m production_companies:\n\u001b[0;32m      4\u001b[0m     company \u001b[39m=\u001b[39m ProductionCompanyIMDB(companyIter)\n\u001b[1;32m----> 5\u001b[0m     \u001b[39mprint\u001b[39m(company\u001b[39m.\u001b[39;49mget_average_rating())\n",
      "File \u001b[1;32mc:\\Users\\User\\Documents\\Programming\\Python\\Scripts\\Data Science\\ScrapeIMBD\\ProductionCompanyIMDB.py:62\u001b[0m, in \u001b[0;36mProductionCompanyIMDB.get_average_rating\u001b[1;34m(self, export_csv)\u001b[0m\n\u001b[0;32m     59\u001b[0m         \u001b[39m# increase start index by 50 for the next page\u001b[39;00m\n\u001b[0;32m     60\u001b[0m         start \u001b[39m+\u001b[39m\u001b[39m=\u001b[39m \u001b[39m50\u001b[39m\n\u001b[1;32m---> 62\u001b[0m \u001b[39mself\u001b[39m\u001b[39m.\u001b[39m_average_rating \u001b[39m=\u001b[39m df[\u001b[39m\"\u001b[39m\u001b[39mtitle\u001b[39m\u001b[39m\"\u001b[39m]\u001b[39m.\u001b[39mmean()\n\u001b[0;32m     64\u001b[0m \u001b[39mif\u001b[39;00m export_csv:\n\u001b[0;32m     65\u001b[0m     df\u001b[39m.\u001b[39mto_csv(\u001b[39mf\u001b[39m\u001b[39m\"\u001b[39m\u001b[39m{\u001b[39;00m\u001b[39mself\u001b[39m\u001b[39m.\u001b[39m_name\u001b[39m}\u001b[39;00m\u001b[39m_titles_1_to_\u001b[39m\u001b[39m{\u001b[39;00mstart\u001b[39m+\u001b[39m\u001b[39m49\u001b[39m\u001b[39m}\u001b[39;00m\u001b[39m.csv\u001b[39m\u001b[39m\"\u001b[39m, index\u001b[39m=\u001b[39m\u001b[39mFalse\u001b[39;00m)\n",
      "\u001b[1;31mUnboundLocalError\u001b[0m: cannot access local variable 'df' where it is not associated with a value"
     ]
    }
   ],
   "source": [
    "# Specify the URL of the IMDb website you want to scrape\n",
    "production_companies = [\"Warner Bros\"]\n",
    "for companyIter in production_companies:\n",
    "    company = ProductionCompanyIMDB(companyIter)\n",
    "    print(company.get_average_rating(export))\n"
   ]
  }
 ],
 "metadata": {
  "kernelspec": {
   "display_name": "Python 3",
   "language": "python",
   "name": "python3"
  },
  "language_info": {
   "codemirror_mode": {
    "name": "ipython",
    "version": 3
   },
   "file_extension": ".py",
   "mimetype": "text/x-python",
   "name": "python",
   "nbconvert_exporter": "python",
   "pygments_lexer": "ipython3",
   "version": "3.11.1"
  },
  "orig_nbformat": 4,
  "vscode": {
   "interpreter": {
    "hash": "ebfc0a8d552866b0d59eba665220a57de3bc06f3ac643b8bef38dd8f66781fdd"
   }
  }
 },
 "nbformat": 4,
 "nbformat_minor": 2
}
